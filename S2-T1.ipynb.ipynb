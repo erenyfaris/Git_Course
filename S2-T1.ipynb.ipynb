{
 "cells": [
  {
   "cell_type": "code",
   "execution_count": 5,
   "id": "73be2d3e",
   "metadata": {},
   "outputs": [
    {
     "name": "stdout",
     "output_type": "stream",
     "text": [
      "Hello, World!\n"
     ]
    }
   ],
   "source": [
    "#Say \"Hello, World!\" With Python\n",
    "#https://www.hackerrank.com/challenges/py-hello-world/problem?isFullScreen=false\n",
    "import math\n",
    "import os\n",
    "import random\n",
    "import re\n",
    "import sys\n",
    "\n",
    "import sys\n",
    "my_string = (\"Hello, World!\")\n",
    "print(my_string)\n"
   ]
  },
  {
   "cell_type": "code",
   "execution_count": 6,
   "id": "ec03ada7",
   "metadata": {},
   "outputs": [
    {
     "name": "stdout",
     "output_type": "stream",
     "text": [
      "3\n",
      "Weird\n"
     ]
    }
   ],
   "source": [
    "#Python If-Else\n",
    "#https://www.hackerrank.com/challenges/py-if-else/problem?isFullScreen=false\n",
    "import math\n",
    "import os\n",
    "import random\n",
    "import re\n",
    "import sys\n",
    "\n",
    "import sys\n",
    "N = int(input().strip())\n",
    "\n",
    "if N % 2 != 0:\n",
    "    print (\"Weird\")\n",
    "else:\n",
    "    if N >= 2 and N <= 5:\n",
    "        print (\"Not Weird\")\n",
    "    elif N >= 6 and N <= 20:\n",
    "        print (\"Weird\")\n",
    "    elif N > 20:\n",
    "        print (\"Not Weird\")\n"
   ]
  },
  {
   "cell_type": "code",
   "execution_count": 7,
   "id": "b01e7a24",
   "metadata": {},
   "outputs": [
    {
     "name": "stdout",
     "output_type": "stream",
     "text": [
      "3\n",
      "2\n",
      "5\n",
      "1\n",
      "6\n"
     ]
    }
   ],
   "source": [
    "#Arithmetic Operators\n",
    "#https://www.hackerrank.com/challenges/python-arithmetic-operators/problem?isFullScreen=false\n",
    "if __name__ == '__main__':\n",
    "    a = int(input())\n",
    "    b = int(input())\n",
    "print (a + b)\n",
    "print (a - b)\n",
    "print (a * b)"
   ]
  },
  {
   "cell_type": "code",
   "execution_count": 8,
   "id": "146b0b23",
   "metadata": {},
   "outputs": [
    {
     "name": "stdout",
     "output_type": "stream",
     "text": [
      "3\n",
      "5\n",
      "0\n",
      "0.6\n"
     ]
    }
   ],
   "source": [
    "#Python: Division\n",
    "#https://www.hackerrank.com/challenges/python-division/problem?h_r=next-challenge&h_r=next-challenge&h_v=zen&h_v=zen&isFullScreen=false\n",
    "\n",
    "if __name__ == '__main__':\n",
    "    a = int(input())\n",
    "    b = int(input())\n",
    "    print(int(a//b))\n",
    "    print(float(a/b))"
   ]
  },
  {
   "cell_type": "code",
   "execution_count": 19,
   "id": "0c1b45f0",
   "metadata": {},
   "outputs": [
    {
     "name": "stdout",
     "output_type": "stream",
     "text": [
      "3\n",
      "0\n",
      "1\n",
      "4\n"
     ]
    }
   ],
   "source": [
    "#Loops:\n",
    "#https://www.hackerrank.com/challenges/python-loops/problem?h_r=next-challenge&h_r=next-challenge&h_r=next-challenge&h_v=zen&h_v=zen&h_v=zen&isFullScreen=false\n",
    "\n",
    "if __name__ == '__main__':\n",
    " n = int(input())\n",
    "for i in range(n):\n",
    "        if i < n:\n",
    "            print(i*i)\n",
    "        "
   ]
  },
  {
   "cell_type": "code",
   "execution_count": 22,
   "id": "d27b6301",
   "metadata": {},
   "outputs": [
    {
     "name": "stdout",
     "output_type": "stream",
     "text": [
      "5\n",
      "12345"
     ]
    }
   ],
   "source": [
    "#Write a function\n",
    "#https://www.hackerrank.com/challenges/write-a-function/problem?h_r=next-challenge&h_r=next-challenge&h_v=zen&h_v=zen&isFullScreen=false&h_r=next-challenge&h_v=zen&h_r=next-challenge&h_v=zen\n",
    "if __name__ == '__main__':\n",
    "    n = int(input())\n",
    "for i in range(n):\n",
    "      print(i+1,end=\"\")"
   ]
  },
  {
   "cell_type": "code",
   "execution_count": null,
   "id": "2d2f711f",
   "metadata": {},
   "outputs": [],
   "source": [
    "#List Comprehensions\n",
    "#https://www.hackerrank.com/challenges/list-comprehensions/problem?isFullScreen=false\n",
    "\n",
    "if __name__ == '__main__':\n",
    "    a = int(input())\n",
    "    b = int(input())\n",
    "    c = int(input())\n",
    "    n = int(input())\n",
    "    \n",
    "    print([[x,y,z] for x in range(a+1) for y in range(b+1) for z in range(c+1) if (x+y+z)!=n])"
   ]
  },
  {
   "cell_type": "code",
   "execution_count": 1,
   "id": "05a0e5b2",
   "metadata": {},
   "outputs": [
    {
     "name": "stdout",
     "output_type": "stream",
     "text": [
      "5\n",
      "2 3 6 6 5\n",
      "5\n"
     ]
    }
   ],
   "source": [
    "#Find the Runner-Up Score!\n",
    "#https://www.hackerrank.com/challenges/find-second-maximum-number-in-a-list/problem?isFullScreen=false&h_r=next-challenge&h_v=zen\n",
    "if __name__ == '__main__':\n",
    "    n = int(input())\n",
    "    arr = map(int, input().split())\n",
    "    print(sorted(list(set(arr)))[-2])"
   ]
  },
  {
   "cell_type": "code",
   "execution_count": 5,
   "id": "2772c5d6",
   "metadata": {},
   "outputs": [
    {
     "name": "stdout",
     "output_type": "stream",
     "text": [
      "5\n",
      "Harry\n",
      "37.21\n",
      "Berry\n",
      "37.21\n",
      "Tina\n",
      "37.2\n",
      "Akriti\n",
      "41\n",
      "Harsh\n",
      "39\n",
      "Berry\n",
      "Harry\n"
     ]
    }
   ],
   "source": [
    "#Nested Lists\n",
    "#https://www.hackerrank.com/challenges/nested-list/problem?isFullScreen=false\n",
    "Result =[]\n",
    "scorelist = []\n",
    "\n",
    "if __name__ == '__main__':\n",
    "    for _ in range(int(input())):\n",
    "        name = input()\n",
    "        score = float(input())\n",
    "        Result+=[[name,score]]\n",
    "        scorelist+=[score]\n",
    "    b=sorted(list(set(scorelist)))[1] \n",
    "\n",
    "    for a,c in sorted(Result):\n",
    "        if c==b:\n",
    "            print(a)\n",
    "        "
   ]
  },
  {
   "cell_type": "code",
   "execution_count": null,
   "id": "cc539151",
   "metadata": {},
   "outputs": [],
   "source": []
  }
 ],
 "metadata": {
  "celltoolbar": "Raw Cell Format",
  "kernelspec": {
   "display_name": "Python 3 (ipykernel)",
   "language": "python",
   "name": "python3"
  },
  "language_info": {
   "codemirror_mode": {
    "name": "ipython",
    "version": 3
   },
   "file_extension": ".py",
   "mimetype": "text/x-python",
   "name": "python",
   "nbconvert_exporter": "python",
   "pygments_lexer": "ipython3",
   "version": "3.9.7"
  }
 },
 "nbformat": 4,
 "nbformat_minor": 5
}
